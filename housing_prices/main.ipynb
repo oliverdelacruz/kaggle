{
 "cells": [
  {
   "cell_type": "code",
   "execution_count": null,
   "metadata": {
    "trusted": true,
    "_uuid": "efb6563da93cc58223c4037b574602e5aeecdec6"
   },
   "outputs": [],
   "source": [
    "#Importing libraries\n",
    "import matplotlib.pyplot as plt\n",
    "import seaborn as sns\n",
    "import xgboost\n",
    "import pandas as pd\n",
    "import numpy as np\n",
    "from scipy.stats import norm\n",
    "import warnings\n",
    "warnings.filterwarnings('ignore')"
   ]
  },
  {
   "cell_type": "markdown",
   "metadata": {
    "_uuid": "8b8c2068ad55b0559d4b36d9aa93151b62cff2f0"
   },
   "source": [
    "### Importing test and train datasets"
   ]
  },
  {
   "cell_type": "code",
   "execution_count": null,
   "metadata": {
    "trusted": true,
    "_uuid": "2104b5f828e3e91a665866ac54cf4ab1871aa632"
   },
   "outputs": [],
   "source": [
    "train = pd.read_csv('./data/train.csv',index_col = 'Id')\n",
    "test = pd.read_csv('./data/test.csv',index_col = 'Id')"
   ]
  },
  {
   "cell_type": "markdown",
   "metadata": {
    "_uuid": "4ff59d8d297d6bd53d54700d228d07b424592682"
   },
   "source": [
    "##### Shape of the Datasets"
   ]
  },
  {
   "cell_type": "code",
   "execution_count": null,
   "metadata": {
    "trusted": true,
    "_uuid": "38ba754a78c5ad1bd008ac3a3ed78e162ba5b6ae"
   },
   "outputs": [],
   "source": [
    "test.shape"
   ]
  },
  {
   "cell_type": "code",
   "execution_count": null,
   "metadata": {
    "trusted": true,
    "_uuid": "84a118e599fe8bcd744b63830847ade12327e604"
   },
   "outputs": [],
   "source": [
    "train.shape"
   ]
  },
  {
   "cell_type": "markdown",
   "metadata": {
    "_uuid": "315bb5a68785b0b84bd51a0c5483f268f05671b0"
   },
   "source": [
    "### Getting information about dataset"
   ]
  },
  {
   "cell_type": "code",
   "execution_count": null,
   "metadata": {
    "trusted": true,
    "_uuid": "00c50a4c95f896b2cb67107d0ce0a8bcdba4d08b"
   },
   "outputs": [],
   "source": [
    "#train.info()\n",
    "#test.info()"
   ]
  },
  {
   "cell_type": "code",
   "execution_count": null,
   "metadata": {
    "trusted": true,
    "_uuid": "369be526a7dbfe9d85f0aa752a0d3ab91d9cf54b"
   },
   "outputs": [],
   "source": [
    "train.head()"
   ]
  },
  {
   "cell_type": "markdown",
   "metadata": {
    "_uuid": "ecda63b975adfe7424b3e200b18d477b375e7807"
   },
   "source": [
    "List  of all the features"
   ]
  },
  {
   "cell_type": "code",
   "execution_count": null,
   "metadata": {
    "trusted": true,
    "_uuid": "7ab8e6e930bbbeb1278ad478a4881d05ddcda758"
   },
   "outputs": [],
   "source": [
    "train.columns"
   ]
  },
  {
   "cell_type": "markdown",
   "metadata": {
    "_uuid": "0051c344ec4ffa94de934668c982ec75f36dbccc"
   },
   "source": [
    "**Information about Features**"
   ]
  },
  {
   "cell_type": "markdown",
   "metadata": {
    "_uuid": "33d2ca16155ec263e8e6048c852d24566dd80169"
   },
   "source": [
    "* SalePrice - the property's sale price in dollars. This is the target variable that you're trying to predict.\n* MSSubClass: The building class\n* MSZoning: The general zoning classification\n* LotFrontage: Linear feet of street connected to property\n* LotArea: Lot size in square feet\n* Street: Type of road access\n* Alley: Type of alley access\n* LotShape: General shape of property\n* LandContour: Flatness of the property\n* Utilities: Type of utilities available\n* LotConfig: Lot configuration\n* LandSlope: Slope of property\n* Neighborhood: Physical locations within Ames city limits\n* Condition1: Proximity to main road or railroad\n* Condition2: Proximity to main road or railroad (if a second is present)\n* BldgType: Type of dwelling\n* HouseStyle: Style of dwelling\n* OverallQual: Overall material and finish quality\n* OverallCond: Overall condition rating\n* YearBuilt: Original construction date\n* YearRemodAdd: Remodel date\n* RoofStyle: Type of roof\n* RoofMatl: Roof material\n* Exterior1st: Exterior covering on house\n* Exterior2nd: Exterior covering on house (if more than one material)\n* MasVnrType: Masonry veneer type\n* MasVnrArea: Masonry veneer area in square feet\n* ExterQual: Exterior material quality\n* ExterCond: Present condition of the material on the exterior\n* Foundation: Type of foundation\n* BsmtQual: Height of the basement\n* BsmtCond: General condition of the basement\n* BsmtExposure: Walkout or garden level basement walls\n* BsmtFinType1: Quality of basement finished area\n* BsmtFinSF1: Type 1 finished square feet\n* BsmtFinType2: Quality of second finished area (if present)\n* BsmtFinSF2: Type 2 finished square feet\n* BsmtUnfSF: Unfinished square feet of basement area\n* TotalBsmtSF: Total square feet of basement area\n* Heating: Type of heating\n* HeatingQC: Heating quality and condition\n* CentralAir: Central air conditioning\n* Electrical: Electrical system\n* 1stFlrSF: First Floor square feet\n* 2ndFlrSF: Second floor square feet\n* LowQualFinSF: Low quality finished square feet (all floors)\n* GrLivArea: Above grade (ground) living area square feet\n* BsmtFullBath: Basement full bathrooms\n* BsmtHalfBath: Basement half bathrooms\n* FullBath: Full bathrooms above grade\n* HalfBath: Half baths above grade\n* Bedroom: Number of bedrooms above basement level\n* Kitchen: Number of kitchens\n* KitchenQual: Kitchen quality\n* TotRmsAbvGrd: Total rooms above grade (does not include bathrooms)\n* Functional: Home functionality rating\n* Fireplaces: Number of fireplaces\n* FireplaceQu: Fireplace quality\n* GarageType: Garage location\n* GarageYrBlt: Year garage was built\n* GarageFinish: Interior finish of the garage\n* GarageCars: Size of garage in car capacity\n* GarageArea: Size of garage in square feet\n* GarageQual: Garage quality\n* GarageCond: Garage condition\n* PavedDrive: Paved driveway\n* WoodDeckSF: Wood deck area in square feet\n* OpenPorchSF: Open porch area in square feet\n* EnclosedPorch: Enclosed porch area in square feet\n* 3SsnPorch: Three season porch area in square feet\n* ScreenPorch: Screen porch area in square feet\n* PoolArea: Pool area in square feet\n* PoolQC: Pool quality\n* Fence: Fence quality\n* MiscFeature: Miscellaneous feature not covered in other categories\n* MiscVal: $Value of miscellaneous feature\n* MoSold: Month Sold\n* YrSold: Year Sold\n* SaleType: Type of sale\n* SaleCondition: Condition of sale\n"
   ]
  },
  {
   "cell_type": "markdown",
   "metadata": {
    "_uuid": "678864f2bad89e9a8a51f5dff0e8695c59590bcd"
   },
   "source": [
    "### To get the descriptive statistics about the data"
   ]
  },
  {
   "cell_type": "code",
   "execution_count": null,
   "metadata": {
    "trusted": true,
    "_uuid": "1083fd9e0e1def397c3b9e63e0d76b850eeb87c3"
   },
   "outputs": [],
   "source": [
    "train.describe()"
   ]
  },
  {
   "cell_type": "markdown",
   "metadata": {
    "_uuid": "2151e223666d28a4dd6bdee904544f42a2787ad4"
   },
   "source": [
    "### Selecting numerical and categorical features"
   ]
  },
  {
   "cell_type": "code",
   "execution_count": null,
   "metadata": {
    "trusted": true,
    "_uuid": "e575dede3c63e4d30d9794ab7066f2bb9b77248d"
   },
   "outputs": [],
   "source": [
    "num_feat=train.select_dtypes(include=[np.number])\n",
    "cat_feat=train.select_dtypes(include=[np.object])\n",
    "print('Numerical Features:\\n',num_feat.dtypes,'\\n')\n",
    "print('Categorical Features:\\n',cat_feat.dtypes)"
   ]
  },
  {
   "cell_type": "markdown",
   "metadata": {
    "_uuid": "bcbcad357c188621b2ab907e49aadf058a549e12"
   },
   "source": [
    "### Target Analysis"
   ]
  },
  {
   "cell_type": "code",
   "execution_count": null,
   "metadata": {
    "trusted": true,
    "_uuid": "85307c1c1f848a7ba46f5059dd2dfad34f324704"
   },
   "outputs": [],
   "source": [
    "plt.figure(figsize=(12,7))\n",
    "sns.distplot(train['SalePrice'],fit = norm);"
   ]
  },
  {
   "cell_type": "code",
   "execution_count": null,
   "metadata": {
    "trusted": true,
    "_uuid": "4f97b08b2dc9e20150beafaf7f3e249c9ede832b"
   },
   "outputs": [],
   "source": [
    "train['SalePrice'].describe()"
   ]
  },
  {
   "cell_type": "markdown",
   "metadata": {
    "_uuid": "cd801c8c7a39921d30f780d5faf0892d2fd36bf7"
   },
   "source": [
    "#### Skewness:\nIf the bulk of the data is at the left and the right tail is\nlonger, we say that the distribution is skewed right or **positively skewed**;\nif the peak is toward the right and the left tail is longer, we say that the\ndistribution is skewed left or **negatively skewed**.\n\n#### Kurtosis:\nThe height and sharpness of the peak relative to the rest of the data\nare measured by a number called kurtosis. **Higher values indicate a\nhigher, sharper peak; lower values indicate a lower, less distinct\npeak.**\n\nA **normal distribution has kurtosis exactly 3** (excess kurtosis exactly\n0). Any distribution with kurtosis ≈3 (excess ≈0) is called\nmesokurtic.\nA distribution with kurtosis <3 (excess kurtosis <0) is called\n**platykurtic**. Compared to a normal distribution, its central peak is\nlower and broader, and its tails are shorter and thinner.\nA distribution with kurtosis >3 (excess kurtosis >0) is called\n**leptokurtic**. Compared to a normal distribution, its central peak is\nhigher and sharper, and its tails are longer and fatter.\n\n***So we can see that our Target variable is positively skewed and is leptokurtic.***"
   ]
  },
  {
   "cell_type": "code",
   "execution_count": null,
   "metadata": {
    "trusted": true,
    "_uuid": "f10fcb13876717ddb52c47db53e328d8ce1d7060"
   },
   "outputs": [],
   "source": [
    "#Skewness and Kurtosis for Target Variable\n",
    "print('Skewness :',train['SalePrice'].skew())\n",
    "print('Kurtosis :',train['SalePrice'].kurt())"
   ]
  },
  {
   "cell_type": "markdown",
   "metadata": {
    "_uuid": "8ce243f59b0c4f8f0f03f5afe6673730bb2e8a16"
   },
   "source": [
    "### To reduce the skewness we'll take log of SalePrice\n**And the skewness for the logSalePrice is 0.12 which is very close to normal**"
   ]
  },
  {
   "cell_type": "code",
   "execution_count": null,
   "metadata": {
    "trusted": true,
    "_uuid": "ef4680a72d97246502c0572218d96fa9b1016a23"
   },
   "outputs": [],
   "source": [
    "plt.figure(figsize = (12,7))\n",
    "sns.distplot(np.log(train.SalePrice),fit = norm);\n",
    "print('Skewness = ',np.log(train.SalePrice).skew())"
   ]
  },
  {
   "cell_type": "markdown",
   "metadata": {
    "_uuid": "513d8f190cfb28404b4281d37c1296f8f27f9f46"
   },
   "source": [
    "### Checking Correlations"
   ]
  },
  {
   "cell_type": "code",
   "execution_count": null,
   "metadata": {
    "trusted": true,
    "_uuid": "6130bd1e7ed34c8dae75298f994ef6bdd4853c7a"
   },
   "outputs": [],
   "source": [
    "train.corr()['SalePrice'].sort_values(ascending=False)"
   ]
  },
  {
   "cell_type": "markdown",
   "metadata": {
    "_uuid": "7a99946c2b6445c405e903cf99be4a0f1e0b7738"
   },
   "source": [
    "#### List of Highly correlated features : Here we'll visualize them and clean the outliers "
   ]
  },
  {
   "cell_type": "code",
   "execution_count": null,
   "metadata": {
    "trusted": true,
    "_uuid": "8352c1279d2c556b199b41dfb2492a322c55d65b"
   },
   "outputs": [],
   "source": [
    "features = ['OverallQual','YearBuilt','YearRemodAdd','TotalBsmtSF','1stFlrSF',\n",
    "                    'GrLivArea','FullBath','TotRmsAbvGrd','GarageCars','GarageArea']"
   ]
  },
  {
   "cell_type": "code",
   "execution_count": null,
   "metadata": {
    "trusted": true,
    "_uuid": "3b1057039f2b216f5bd39e8ad89f2b7278173f1e"
   },
   "outputs": [],
   "source": [
    "plt.figure(figsize = (15,15))\n",
    "sns.heatmap(train[features].corr(),annot = True,linewidths = 0.5,cmap='cubehelix_r');\n",
    "plt.savefig('Correlation Heatmap.png')"
   ]
  },
  {
   "cell_type": "markdown",
   "metadata": {
    "_uuid": "2f87ac1cccd282fdf5df40111389e74bcfa73203"
   },
   "source": [
    "# Data Visualization"
   ]
  },
  {
   "cell_type": "code",
   "execution_count": null,
   "metadata": {
    "trusted": true,
    "_uuid": "1e3030466d9f3d5fd240c1a6eb9d33905ad94b7a"
   },
   "outputs": [],
   "source": [
    "#Plotting regression plot for GrLivArea\n",
    "plt.figure(figsize = (10,7))\n",
    "sns.regplot('GrLivArea','SalePrice',data=train,color = 'red');\n"
   ]
  },
  {
   "cell_type": "markdown",
   "metadata": {
    "_uuid": "0b5a985cbf88c8e994c489c3236d7822cc44aee8"
   },
   "source": [
    "**Outliers affect the mean value of the data but have little effect on the median or mode of a given set of data.**\nWe can see that there are outliers. So we'll remove them and take GrLivArea till 4000."
   ]
  },
  {
   "cell_type": "code",
   "execution_count": null,
   "metadata": {
    "trusted": true,
    "_uuid": "0042d235b394323c3bc5454e2fc752e41dc03c7a"
   },
   "outputs": [],
   "source": [
    "train = train.drop(train[(train['GrLivArea']>4000) & (train['SalePrice']<300000)].index)\n",
    "plt.figure(figsize = (10,7))\n",
    "sns.regplot('GrLivArea','SalePrice',data=train,color = 'red');"
   ]
  },
  {
   "cell_type": "code",
   "execution_count": null,
   "metadata": {
    "trusted": true,
    "_uuid": "0e17253bed04398e54262cd373435d4b1468dd82"
   },
   "outputs": [],
   "source": [
    "#Visualizing Garage Area\n",
    "plt.figure(figsize=(10,7))\n",
    "sns.regplot('GarageArea','SalePrice',data=train,color='green');"
   ]
  },
  {
   "cell_type": "markdown",
   "metadata": {
    "_uuid": "cc3b3e2d70888162c1b77e95f1aa6f4cdbea93dc"
   },
   "source": [
    "**The error seems to have constant variance till GarageArea=1000 but we after that it's dipersed and it can create huge problem in analysis. So we'll remove the outliers from here.**"
   ]
  },
  {
   "cell_type": "code",
   "execution_count": null,
   "metadata": {
    "trusted": true,
    "_uuid": "e3cbfccf56c3b3a77f96c62acd3daf4e96656d94"
   },
   "outputs": [],
   "source": [
    "#Removing Outliers from the GarageArea\n",
    "train = train[train['GarageArea']<1200]\n",
    "plt.figure(figsize=(10,7))\n",
    "sns.regplot('GarageArea','SalePrice',data=train,color='green');"
   ]
  },
  {
   "cell_type": "code",
   "execution_count": null,
   "metadata": {
    "trusted": true,
    "_uuid": "b451def5e1ed9a5e220410a6676b5c7757bfd89d"
   },
   "outputs": [],
   "source": [
    "#Visualizing TotalBsmtSF\n",
    "plt.figure(figsize=(10,7))\n",
    "sns.regplot('TotalBsmtSF','SalePrice',data=train,color='Red');"
   ]
  },
  {
   "cell_type": "markdown",
   "metadata": {
    "_uuid": "f3e3da6444afb63c2fb0edd7179efb223cfea890"
   },
   "source": [
    "**Combined '1stFlrSf' and '2ndFlrSF' has a better relationship with SalePrice than both of them alone**"
   ]
  },
  {
   "cell_type": "code",
   "execution_count": null,
   "metadata": {
    "trusted": true,
    "_uuid": "b0bbd6a67adea75cb5e0c7d6d52b529b8623276c"
   },
   "outputs": [],
   "source": [
    "plt.figure(figsize=(15,7))\n",
    "plt.subplot(221)\n",
    "sns.regplot('1stFlrSF','SalePrice',data=train,color = 'Brown');\n",
    "plt.subplot(222)\n",
    "sns.regplot('2ndFlrSF','SalePrice',data=train,color = 'Brown');\n",
    "plt.subplot(223)\n",
    "sns.regplot(train['1stFlrSF'] + train['2ndFlrSF'],train['SalePrice']);\n"
   ]
  },
  {
   "cell_type": "code",
   "execution_count": null,
   "metadata": {
    "trusted": true,
    "_uuid": "2f75fa3c3e79b88fc1985c545bfe3d638490d521"
   },
   "outputs": [],
   "source": [
    "plt.figure(figsize=(10,7))\n",
    "sns.regplot('LotFrontage','SalePrice',data=train);  #we can see the outliers here"
   ]
  },
  {
   "cell_type": "code",
   "execution_count": null,
   "metadata": {
    "trusted": true,
    "_uuid": "1b53f23d47dccfa2303a5497e15bb45f9854160f"
   },
   "outputs": [],
   "source": [
    "train = train[train['LotFrontage']<200]   ##Removing Outliers\n",
    "plt.figure(figsize=(10,7))\n",
    "sns.regplot('LotFrontage','SalePrice',data=train);"
   ]
  },
  {
   "cell_type": "markdown",
   "metadata": {
    "_uuid": "00ff7806a60a4ae5d1217ffd8defb2a157c734ad"
   },
   "source": [
    "### This plot shows that as Overall Quality for a house is increasing the median Sale Price is increasing.\n**Also the maximum sought for house has an overall condition of 5.**"
   ]
  },
  {
   "cell_type": "code",
   "execution_count": null,
   "metadata": {
    "trusted": true,
    "_uuid": "6e252418c367d41602b6d60740a777097fca6beb"
   },
   "outputs": [],
   "source": [
    "plt.figure(figsize= (15,7))\n",
    "plt.subplot(121)\n",
    "sns.boxplot(train['OverallQual'], train['SalePrice']);\n",
    "plt.subplot(122)\n",
    "train['OverallQual'].value_counts().plot(kind=\"bar\");\n",
    "plt.savefig('OverallQual Vs SalePrice.png')"
   ]
  },
  {
   "cell_type": "code",
   "execution_count": null,
   "metadata": {
    "trusted": true,
    "_uuid": "f32576fae085e6c8adb755082fc59a92ea6c05df"
   },
   "outputs": [],
   "source": [
    "plt.figure(figsize= (20,8))\n",
    "plt.subplot(121)\n",
    "sns.boxplot(train['TotRmsAbvGrd'], train['SalePrice']);\n",
    "sns.stripplot(train[\"TotRmsAbvGrd\"],train[\"SalePrice\"], jitter=True, edgecolor=\"gray\")\n",
    "plt.subplot(122)\n",
    "train['TotRmsAbvGrd'].value_counts().plot(kind=\"bar\");\n",
    "plt.savefig('TotRmsAbvGrd Vs SalePrice.png')\n",
    "\n",
    "#Sample size is decreasing after Total rooms above grade reaches to 10."
   ]
  },
  {
   "cell_type": "markdown",
   "metadata": {
    "_uuid": "70f690aedc4ed53fc6b1880b6bc0ba1abd853efc"
   },
   "source": [
    ""
   ]
  },
  {
   "cell_type": "code",
   "execution_count": null,
   "metadata": {
    "trusted": true,
    "_uuid": "c9746c1feb946d85faec6f06fb9467cdf5d74c41"
   },
   "outputs": [],
   "source": [
    "plt.figure(figsize= (15,8))\n",
    "plt.subplot(121)\n",
    "sns.boxplot(train['GarageCars'], train['SalePrice']);\n",
    "sns.stripplot(train[\"GarageCars\"],train[\"SalePrice\"], jitter=True, edgecolor=\"gray\")\n",
    "plt.subplot(122)\n",
    "train['GarageCars'].value_counts().plot(kind=\"bar\");\n",
    "plt.savefig('GarageCars Vs SalePrice.png')\n",
    "#Median Sale Price going down after 4 Garagecars is undestandable after plotting the points on boxes."
   ]
  },
  {
   "cell_type": "code",
   "execution_count": null,
   "metadata": {
    "trusted": true,
    "_uuid": "264a53eb91c96c6b8ccca42f86ddc91196e50336"
   },
   "outputs": [],
   "source": [
    "plt.figure(figsize= (15,8))\n",
    "plt.subplot(121)\n",
    "sns.boxplot(train['FullBath'], train['SalePrice']);\n",
    "plt.subplot(122)\n",
    "train['FullBath'].value_counts().plot(kind=\"bar\");\n",
    "plt.savefig('FullBath Vs SalePrice.png')"
   ]
  },
  {
   "cell_type": "markdown",
   "metadata": {
    "_uuid": "662979153ca7304788dc0957da3f3279d9fc2d7b"
   },
   "source": [
    "# Data Preprocessing and Cleaning"
   ]
  },
  {
   "cell_type": "code",
   "execution_count": null,
   "metadata": {
    "trusted": true,
    "_uuid": "ea8d5aab6d583166e81d1f8bf635ce132797ac8e"
   },
   "outputs": [],
   "source": [
    "train['log_SalePrice']=np.log(train['SalePrice']+1)\n",
    "saleprices=train[['SalePrice','log_SalePrice']]\n",
    "\n",
    "saleprices.head(5)"
   ]
  },
  {
   "cell_type": "code",
   "execution_count": null,
   "metadata": {
    "trusted": true,
    "_uuid": "a862783a74a2c5b896aa85b5bb40e4f258899b58"
   },
   "outputs": [],
   "source": [
    "train=train.drop(columns=['SalePrice','log_SalePrice'])"
   ]
  },
  {
   "cell_type": "code",
   "execution_count": null,
   "metadata": {
    "trusted": true,
    "_uuid": "b8e8a099f00abf1d990fee58906ac8fdd4802aac"
   },
   "outputs": [],
   "source": [
    "print(test.shape)\n",
    "print(train.shape)"
   ]
  },
  {
   "cell_type": "code",
   "execution_count": null,
   "metadata": {
    "trusted": true,
    "_uuid": "1dfb1bd2c9c52979f962abba66f9770d1a97f907"
   },
   "outputs": [],
   "source": [
    "all_data = pd.concat((train, test))\n",
    "print(all_data.shape)\n",
    "all_data.head()"
   ]
  },
  {
   "cell_type": "markdown",
   "metadata": {
    "_uuid": "728d81c19f02c99afb5ac65b2de05117dfea8ed2"
   },
   "source": [
    "### Checking for NaN values in Data"
   ]
  },
  {
   "cell_type": "code",
   "execution_count": null,
   "metadata": {
    "trusted": true,
    "_uuid": "ebfc2c10e23d4524ed0bf9a711df27625c2a5685"
   },
   "outputs": [],
   "source": [
    "null_data = pd.DataFrame(all_data.isnull().sum().sort_values(ascending=False))\n",
    "\n",
    "null_data.columns = ['Null Count']\n",
    "null_data.index.name = 'Feature'\n",
    "null_data\n"
   ]
  },
  {
   "cell_type": "code",
   "execution_count": null,
   "metadata": {
    "trusted": true,
    "_uuid": "9e9d05b900a0e3e9dbd43753ee5cf90fd225be7f"
   },
   "outputs": [],
   "source": [
    "# Percentage of Null Data in each Feature\n",
    "\n",
    "(null_data/len(all_data)) * 100"
   ]
  },
  {
   "cell_type": "code",
   "execution_count": null,
   "metadata": {
    "trusted": true,
    "_uuid": "7ac12bf1bdd73abe1e01047eb9d16939fec34ef1"
   },
   "outputs": [],
   "source": [
    "# Visualising missing data\n",
    "f, ax = plt.subplots(figsize=(20, 7));\n",
    "plt.xticks(rotation='90');\n",
    "sns.barplot(x=null_data.index, y=null_data['Null Count']);\n",
    "plt.xlabel('Features', fontsize=15);\n",
    "plt.ylabel('Percent of missing values', fontsize=15);\n",
    "plt.title('Percent missing data by feature', fontsize=15);"
   ]
  },
  {
   "cell_type": "markdown",
   "metadata": {
    "_uuid": "f248a5aede00c25f75b3dc184061daeeb062fb20"
   },
   "source": [
    "## Imputing Missing Values\n#### In the below column, we have most of the values missing so we'll impute them with 'None'"
   ]
  },
  {
   "cell_type": "code",
   "execution_count": null,
   "metadata": {
    "trusted": true,
    "_uuid": "e5620d0a9c32aef685f8350212b7c84ae4a9ff53"
   },
   "outputs": [],
   "source": [
    "for col in ('PoolQC', 'MiscFeature', 'Alley', 'Fence', 'FireplaceQu', 'GarageType', 'GarageFinish', 'GarageQual', 'GarageCond',\n",
    "            'BsmtQual', 'BsmtCond', 'BsmtExposure', 'BsmtFinType1', 'BsmtFinType2', 'MasVnrType', 'MSSubClass'):\n",
    "    \n",
    "    all_data[col] = all_data[col].fillna('None')"
   ]
  },
  {
   "cell_type": "markdown",
   "metadata": {
    "_uuid": "fc5f28b4291f27f9a64b092634092ed30bbd2654"
   },
   "source": [
    "#### In these numerical features we'll impute NaN with zero because a missing values here means the house doesn't have that feature so it's zero"
   ]
  },
  {
   "cell_type": "code",
   "execution_count": null,
   "metadata": {
    "trusted": true,
    "_uuid": "e8587c8434c595968b54f93f66ed539cbe77b504"
   },
   "outputs": [],
   "source": [
    "#Impute the numerical features and replace with a value of zero\n",
    "\n",
    "for col in ('GarageYrBlt', 'GarageArea', 'GarageCars', 'BsmtFinSF1', 'BsmtFinSF2', 'BsmtUnfSF','TotalBsmtSF', 'BsmtFullBath',\n",
    "            'BsmtHalfBath', 'MasVnrArea'):\n",
    "    \n",
    "    all_data[col] = all_data[col].fillna(0)"
   ]
  },
  {
   "cell_type": "markdown",
   "metadata": {
    "_uuid": "9e38771b6dfdaf3217ccf7935f52f3ef5d6a7c13"
   },
   "source": [
    "#### In the following features there are very less missing values so we'll impute them with the most frequent value."
   ]
  },
  {
   "cell_type": "code",
   "execution_count": null,
   "metadata": {
    "trusted": true,
    "_uuid": "6b64d616675a63b272d618988976e8920d6dc37e"
   },
   "outputs": [],
   "source": [
    "for col in ('MSZoning', 'Electrical', 'KitchenQual', 'Exterior1st', 'Exterior2nd', 'SaleType', 'Functional', 'Utilities'):\n",
    "    all_data[col] = all_data[col].fillna(all_data[col].mode()[0])"
   ]
  },
  {
   "cell_type": "markdown",
   "metadata": {
    "_uuid": "d744d6ec48d699c8fdb28a0097abfc34e4ca0efc"
   },
   "source": [
    "###### Imputing LotFrontage with median values"
   ]
  },
  {
   "cell_type": "code",
   "execution_count": null,
   "metadata": {
    "trusted": true,
    "_uuid": "12e18880ab03a9e696cd8594cb3be8df66bf5ee0"
   },
   "outputs": [],
   "source": [
    "all_data['LotFrontage'] = all_data.groupby('Neighborhood')['LotFrontage'].apply(lambda x: x.fillna(x.median()))\n"
   ]
  },
  {
   "cell_type": "markdown",
   "metadata": {
    "_uuid": "be6529cf24c64ff6fb7ff4e163c5de20d6a1eda0"
   },
   "source": [
    "### Combining similar features to make new features"
   ]
  },
  {
   "cell_type": "markdown",
   "metadata": {
    "_uuid": "19277b85b649cc1c4e9f2824c464c2e728b518dd"
   },
   "source": [
    "**TotalBsmtSF** - Total Basement Square Feet\n\n**1stFlrSF** - First Floor Square Feet\n\n**2ndFlrSF** - Second Floor Square Feet\n\nAll the above three feature define area of the house and we can easily combine these to form **TotalSF** - Total Area in square feet"
   ]
  },
  {
   "cell_type": "code",
   "execution_count": null,
   "metadata": {
    "trusted": true,
    "_uuid": "67d4785c7c7603b75398b9ca5b78ded236c17523"
   },
   "outputs": [],
   "source": [
    "all_data['TotalSF']=all_data['TotalBsmtSF'] + all_data['1stFlrSF'] + all_data['2ndFlrSF']\n",
    "all_data['No2ndFlr']=(all_data['2ndFlrSF']==0)\n",
    "all_data['NoBsmt']=(all_data['TotalBsmtSF']==0)\n",
    "\n",
    "sns.regplot(train['TotalBsmtSF']+train['1stFlrSF']+train['2ndFlrSF'],saleprices['SalePrice'],color='red');"
   ]
  },
  {
   "cell_type": "markdown",
   "metadata": {
    "_uuid": "03561763d695ef804e73f3e1eef5b8de4134cd45"
   },
   "source": [
    " The **BsmtFullBath ,FullBath, BsmtHalfBath** can be combined for a **TotalBath** similar to TotalSF\n"
   ]
  },
  {
   "cell_type": "code",
   "execution_count": null,
   "metadata": {
    "trusted": true,
    "_uuid": "43bc98eaf82b3157eff67006816edd34b15ee084"
   },
   "outputs": [],
   "source": [
    "plt.figure(figsize = (12,7))\n",
    "sns.barplot(train['BsmtFullBath'] + train['FullBath'] + train['BsmtHalfBath'] + train['HalfBath'], saleprices['SalePrice']);\n",
    "\n",
    "all_data['TotalBath']=all_data['BsmtFullBath'] + all_data['FullBath'] + all_data['BsmtHalfBath'] + all_data['HalfBath']"
   ]
  },
  {
   "cell_type": "markdown",
   "metadata": {
    "_uuid": "7332281f2a1dd551ebc7ded6ec1df359ec3c7414"
   },
   "source": [
    "#### Combining YearBuilt and YearRemodAdd"
   ]
  },
  {
   "cell_type": "code",
   "execution_count": null,
   "metadata": {
    "trusted": true,
    "_uuid": "97652e086b25f5dfd05ed26f5bd346204fe59f23"
   },
   "outputs": [],
   "source": [
    "plt.figure(figsize=(10,7))\n",
    "sns.regplot((train['YearBuilt']+train['YearRemodAdd']), saleprices['SalePrice']);\n",
    "\n",
    "all_data['YrBltAndRemod']=all_data['YearBuilt']+all_data['YearRemodAdd']"
   ]
  },
  {
   "cell_type": "markdown",
   "metadata": {
    "_uuid": "d1f99d880f7d27646eb254556480d9de3f83d81c"
   },
   "source": [
    "#### These features are not much related to the SalePrice so we'll drop them."
   ]
  },
  {
   "cell_type": "code",
   "execution_count": null,
   "metadata": {
    "trusted": true,
    "_uuid": "ccae818a2952561e057f09501abaddffc27298b5"
   },
   "outputs": [],
   "source": [
    "all_data=all_data.drop(columns=['Street','Utilities','Condition2','RoofMatl',\n",
    "                                'Heating','PoolArea','PoolQC','MiscVal','MiscFeature'])"
   ]
  },
  {
   "cell_type": "code",
   "execution_count": null,
   "metadata": {
    "trusted": true,
    "_uuid": "2658df21521884a2bc26182a45a17b4606f34425"
   },
   "outputs": [],
   "source": [
    "# treat some numeric values as str which are infact a categorical variables\n",
    "all_data['MSSubClass']=all_data['MSSubClass'].astype(str)\n",
    "all_data['MoSold']=all_data['MoSold'].astype(str)\n",
    "all_data['YrSold']=all_data['YrSold'].astype(str)"
   ]
  },
  {
   "cell_type": "markdown",
   "metadata": {
    "_uuid": "ce754168059461185d7f0c69ba10fb3f611b201b"
   },
   "source": [
    "#### I found these features might look better without 0 data."
   ]
  },
  {
   "cell_type": "code",
   "execution_count": null,
   "metadata": {
    "trusted": true,
    "_uuid": "beffcf7f59545a7effd830f411418d1358061099"
   },
   "outputs": [],
   "source": [
    "all_data['NoLowQual']=(all_data['LowQualFinSF']==0)\n",
    "all_data['NoOpenPorch']=(all_data['OpenPorchSF']==0)\n",
    "all_data['NoWoodDeck']=(all_data['WoodDeckSF']==0)\n",
    "all_data['NoGarage']=(all_data['GarageArea']==0)"
   ]
  },
  {
   "cell_type": "code",
   "execution_count": null,
   "metadata": {
    "trusted": true,
    "_uuid": "44b9a37fe6bce6bd5980b71fb1e9cd9c695ec6ed"
   },
   "outputs": [],
   "source": [
    "Basement = ['BsmtCond', 'BsmtExposure', 'BsmtFinSF1', 'BsmtFinSF2', 'BsmtFinType1',\n",
    "            'BsmtFinType2', 'BsmtQual', 'BsmtUnfSF','TotalBsmtSF']\n",
    "\n",
    "Bsmt=all_data[Basement]\n",
    "Bsmt.head()"
   ]
  },
  {
   "cell_type": "code",
   "execution_count": null,
   "metadata": {
    "trusted": true,
    "_uuid": "2587774304c4a674f00b801bd343f4f1fa2c30e6"
   },
   "outputs": [],
   "source": [
    "Bsmt['BsmtCond'].unique()"
   ]
  },
  {
   "cell_type": "markdown",
   "metadata": {
    "_uuid": "179790a679683c5f57241d80aeb9af5aa5dbfd32"
   },
   "source": [
    "BsmtQual: Evaluates the height of the basement\n\n*    Ex   Excellent (100+ inches) \n*    Gd   Good (90-99 inches)\n*    TA   Typical (80-89 inches)\n*    Fa   Fair (70-79 inches)\n*    Po   Poor (&lt;70 inches\n*    NA   No Basement\n   \nBsmtCond: Evaluates the general condition of the basement\n\n*    Ex   Excellent\n*    Gd   Good\n*    TA   Typical - slight dampness allowed\n*    Fa   Fair - dampness or some cracking or settling\n*    Po   Poor - Severe cracking, settling, or wetness\n*    NA   No Basement\n\nBsmtExposure: Refers to walkout or garden level walls\n\n*    Gd   Good Exposure\n*    Av   Average Exposure (split levels or foyers typically score average or above)  \n*    Mn   Mimimum Exposure\n*    No   No Exposure\n*    NA   No Basement\n\nBsmtFinType1: Rating of basement finished area\n\n*    GLQ  Good Living Quarters\n*    ALQ  Average Living Quarters\n*    BLQ  Below Average Living Quarters   \n*    Rec  Average Rec Room\n*    LwQ  Low Quality\n*    Unf  Unfinshed\n*    NA   No Basement\n\nBsmtFinSF1: Type 1 finished square feet\n\nBsmtFinType2: Rating of basement finished area (if multiple types)\n\n*    GLQ  Good Living Quarters\n*    ALQ  Average Living Quarters\n*    BLQ  Below Average Living Quarters   \n*    Rec  Average Rec Room\n*    LwQ  Low Quality\n*    Unf  Unfinshed\n*    NA   No Basement\n\nBsmtFinSF2: Type 2 finished square feet\n\nBsmtUnfSF: Unfinished square feet of basement area\n\nTotalBsmtSF: Total square feet of basement area   "
   ]
  },
  {
   "cell_type": "code",
   "execution_count": null,
   "metadata": {
    "trusted": true,
    "_uuid": "6ba81ab7cba460288716d98c2c8730486fc07fc4"
   },
   "outputs": [],
   "source": [
    "Bsmt=Bsmt.replace(to_replace='Po', value=1)\n",
    "Bsmt=Bsmt.replace(to_replace='Fa', value=2)\n",
    "Bsmt=Bsmt.replace(to_replace='TA', value=3)\n",
    "Bsmt=Bsmt.replace(to_replace='Gd', value=4)\n",
    "Bsmt=Bsmt.replace(to_replace='Ex', value=5)\n",
    "Bsmt=Bsmt.replace(to_replace='None', value=0)\n",
    "\n",
    "Bsmt=Bsmt.replace(to_replace='No', value=1)\n",
    "Bsmt=Bsmt.replace(to_replace='Mn', value=2)\n",
    "Bsmt=Bsmt.replace(to_replace='Av', value=3)\n",
    "Bsmt=Bsmt.replace(to_replace='Gd', value=4)\n",
    "\n",
    "Bsmt=Bsmt.replace(to_replace='Unf', value=1)\n",
    "Bsmt=Bsmt.replace(to_replace='LwQ', value=2)\n",
    "Bsmt=Bsmt.replace(to_replace='Rec', value=3)\n",
    "Bsmt=Bsmt.replace(to_replace='BLQ', value=4)\n",
    "Bsmt=Bsmt.replace(to_replace='ALQ', value=5)\n",
    "Bsmt=Bsmt.replace(to_replace='GLQ', value=6)"
   ]
  },
  {
   "cell_type": "code",
   "execution_count": null,
   "metadata": {
    "trusted": true,
    "_uuid": "7645866805136f92493cf028cc4676dfee78fdb9"
   },
   "outputs": [],
   "source": [
    "Bsmt.head()"
   ]
  },
  {
   "cell_type": "code",
   "execution_count": null,
   "metadata": {
    "trusted": true,
    "_uuid": "3ac8cd5c82befe284bdf22bcb574b5c55f7ae5e8"
   },
   "outputs": [],
   "source": [
    "Bsmt['BsmtScore']= Bsmt['BsmtQual']  * Bsmt['BsmtCond'] * Bsmt['TotalBsmtSF']\n",
    "all_data['BsmtScore']=Bsmt['BsmtScore']"
   ]
  },
  {
   "cell_type": "code",
   "execution_count": null,
   "metadata": {
    "trusted": true,
    "_uuid": "ed250b0f07c6f209feba9ca300b70832bd70802b"
   },
   "outputs": [],
   "source": [
    "Bsmt['BsmtFin'] = (Bsmt['BsmtFinSF1'] * Bsmt['BsmtFinType1']) + (Bsmt['BsmtFinSF2'] * Bsmt['BsmtFinType2'])\n",
    "all_data['BsmtFinScore']=Bsmt['BsmtFin']\n",
    "all_data['BsmtDNF']=(all_data['BsmtFinScore']==0)"
   ]
  },
  {
   "cell_type": "code",
   "execution_count": null,
   "metadata": {
    "trusted": true,
    "_uuid": "4a8558859a2da65c0342a2427a9713096d512640"
   },
   "outputs": [],
   "source": [
    "lot=['LotFrontage', 'LotArea','LotConfig','LotShape']\n",
    "Lot=all_data[lot]\n",
    "Lot.head()"
   ]
  },
  {
   "cell_type": "code",
   "execution_count": null,
   "metadata": {
    "trusted": true,
    "_uuid": "1f7ef3ae071b91a38c77d188a06100995601e711"
   },
   "outputs": [],
   "source": [
    "garage=['GarageArea','GarageCars','GarageCond','GarageFinish','GarageQual','GarageType','GarageYrBlt']\n",
    "Garage=all_data[garage]\n",
    "\n",
    "Garage=Garage.replace(to_replace='Po', value=1)\n",
    "Garage=Garage.replace(to_replace='Fa', value=2)\n",
    "Garage=Garage.replace(to_replace='TA', value=3)\n",
    "Garage=Garage.replace(to_replace='Gd', value=4)\n",
    "Garage=Garage.replace(to_replace='Ex', value=5)\n",
    "Garage=Garage.replace(to_replace='None', value=0)\n",
    "\n",
    "Garage=Garage.replace(to_replace='Unf', value=1)\n",
    "Garage=Garage.replace(to_replace='RFn', value=2)\n",
    "Garage=Garage.replace(to_replace='Fin', value=3)\n",
    "\n",
    "Garage=Garage.replace(to_replace='CarPort', value=1)\n",
    "Garage=Garage.replace(to_replace='Basment', value=4)\n",
    "Garage=Garage.replace(to_replace='Detchd', value=2)\n",
    "Garage=Garage.replace(to_replace='2Types', value=3)\n",
    "Garage=Garage.replace(to_replace='Basement', value=5)\n",
    "Garage=Garage.replace(to_replace='Attchd', value=6)\n",
    "Garage=Garage.replace(to_replace='BuiltIn', value=7)\n",
    "\n",
    "Garage.head()"
   ]
  },
  {
   "cell_type": "code",
   "execution_count": null,
   "metadata": {
    "trusted": true,
    "_uuid": "75542ef4c4d641a917bedad310b4b9ad1f5fedc4"
   },
   "outputs": [],
   "source": [
    "all_data.head()"
   ]
  },
  {
   "cell_type": "code",
   "execution_count": null,
   "metadata": {
    "trusted": true,
    "_uuid": "827d9ed887a823d5f8a6385c86c32154641de6e2"
   },
   "outputs": [],
   "source": [
    "non_numeric=all_data.select_dtypes(exclude=[np.number, bool])\n",
    "non_numeric.head()"
   ]
  },
  {
   "cell_type": "code",
   "execution_count": null,
   "metadata": {
    "trusted": true,
    "_uuid": "89271faf2cbed7f1f6820e4fb85835f12491a481"
   },
   "outputs": [],
   "source": [
    "def onehot(col_list):\n",
    "    global all_data\n",
    "    while len(col_list) !=0:\n",
    "        col=col_list.pop(0)\n",
    "        data_encoded=pd.get_dummies(all_data[col], prefix=col)\n",
    "        all_data=pd.merge(all_data, data_encoded, on='Id')\n",
    "        all_data=all_data.drop(columns=col)\n",
    "    print(all_data.shape)"
   ]
  },
  {
   "cell_type": "code",
   "execution_count": null,
   "metadata": {
    "trusted": true,
    "_uuid": "eddfca741a0a8478f364f031e0c19e2207bff17d"
   },
   "outputs": [],
   "source": [
    "onehot(list(non_numeric))"
   ]
  },
  {
   "cell_type": "code",
   "execution_count": null,
   "metadata": {
    "trusted": true,
    "_uuid": "d7aa468c263e4c45a23c718a0197c05a5acea0ed"
   },
   "outputs": [],
   "source": [
    "def log_transform(col_list):\n",
    "    transformed_col=[]\n",
    "    while len(col_list)!=0:\n",
    "        col=col_list.pop(0)\n",
    "        if all_data[col].skew() > 0.5:\n",
    "            all_data[col]=np.log(all_data[col]+1)\n",
    "            transformed_col.append(col)\n",
    "        else:\n",
    "            pass\n",
    "    print(f\"{len(transformed_col)} features had been tranformed\")\n",
    "    print(all_data.shape)"
   ]
  },
  {
   "cell_type": "code",
   "execution_count": null,
   "metadata": {
    "trusted": true,
    "_uuid": "cf65d76da637f61fcb99a13931629c2bd577c64c"
   },
   "outputs": [],
   "source": [
    "numeric=all_data.select_dtypes(include=np.number)\n",
    "log_transform(list(numeric))"
   ]
  },
  {
   "cell_type": "code",
   "execution_count": null,
   "metadata": {
    "trusted": true,
    "_uuid": "e5752dfd1760a659b250e7c867a8e701f54de4fe"
   },
   "outputs": [],
   "source": [
    "print(train.shape)\n",
    "print(test.shape)"
   ]
  },
  {
   "cell_type": "markdown",
   "metadata": {
    "_uuid": "1a38362f82993e8785b78000d93e72d13cc11f6e"
   },
   "source": [
    "#### Extracting Train and Test Data again\n"
   ]
  },
  {
   "cell_type": "code",
   "execution_count": null,
   "metadata": {
    "trusted": true,
    "_uuid": "a95dd739b549bdf271c887961c8a584e5991f610"
   },
   "outputs": [],
   "source": [
    "train=all_data[:len(train)]\n",
    "test=all_data[len(train):]"
   ]
  },
  {
   "cell_type": "code",
   "execution_count": null,
   "metadata": {
    "trusted": true,
    "_uuid": "8f69e73a5337bd22a037658ba6ab071d8052bcfd"
   },
   "outputs": [],
   "source": [
    "print(train.shape)\n",
    "print(test.shape)"
   ]
  },
  {
   "cell_type": "markdown",
   "metadata": {
    "_uuid": "2c227564ff1248ff5d5ce157226860a327093feb"
   },
   "source": [
    "# Modeling"
   ]
  },
  {
   "cell_type": "code",
   "execution_count": null,
   "metadata": {
    "trusted": true,
    "_uuid": "add957129e27ce51ee0b066a7af0928de3bc336b"
   },
   "outputs": [],
   "source": [
    "# loading pakages for model. \n",
    "from sklearn.linear_model import ElasticNet, Lasso\n",
    "from sklearn.ensemble import GradientBoostingRegressor\n",
    "from sklearn.kernel_ridge import KernelRidge\n",
    "from sklearn.pipeline import make_pipeline\n",
    "from sklearn.preprocessing import RobustScaler\n",
    "from sklearn.model_selection import cross_val_score\n",
    "from sklearn.metrics import make_scorer\n",
    "\n",
    "from sklearn import linear_model, model_selection, ensemble, preprocessing\n",
    "from sklearn.tree import DecisionTreeRegressor\n",
    "from sklearn.linear_model import LinearRegression, Ridge, Lasso, ElasticNet,SGDRegressor\n",
    "from sklearn.ensemble import RandomForestRegressor,BaggingRegressor, GradientBoostingRegressor, AdaBoostRegressor\n",
    "from sklearn.model_selection import GridSearchCV, KFold, cross_val_score\n",
    "from sklearn.neighbors import KNeighborsRegressor\n",
    "import xgboost as xgb\n",
    "import lightgbm as lgb"
   ]
  },
  {
   "cell_type": "code",
   "execution_count": null,
   "metadata": {
    "trusted": true,
    "_uuid": "9d781572a790cbc11406441bdc667696c11d26dd"
   },
   "outputs": [],
   "source": [
    "def rmse(predict, actual):\n",
    "    predict = np.array(predict)\n",
    "    actual = np.array(actual)\n",
    "    distance = predict - actual\n",
    "    square_distance = distance ** 2\n",
    "    mean_square_distance = square_distance.mean()\n",
    "    score = np.sqrt(mean_square_distance)\n",
    "    return score\n",
    "rmse_score = make_scorer(rmse)\n",
    "rmse_score"
   ]
  },
  {
   "cell_type": "code",
   "execution_count": null,
   "metadata": {
    "trusted": true,
    "_uuid": "0f3a7a92c7a7e14500d1816e4196502845de59ab"
   },
   "outputs": [],
   "source": [
    "feature_names=list(all_data)\n",
    "X_train = train[feature_names]\n",
    "X_test = test[feature_names]\n",
    "y_train = saleprices['log_SalePrice']"
   ]
  },
  {
   "cell_type": "code",
   "execution_count": null,
   "metadata": {
    "trusted": true,
    "_uuid": "7037621b2097c3b2e4fdf58e3805e291eb29e8c0"
   },
   "outputs": [],
   "source": [
    "def score(model):\n",
    "    score = cross_val_score(model, X_train, y_train, cv=5, scoring=rmse_score).mean()\n",
    "    return score"
   ]
  },
  {
   "cell_type": "markdown",
   "metadata": {
    "_uuid": "8c4eeba49ff0ad763d6da488947f17d54cdcc73e"
   },
   "source": [
    "### Tutorials for Models\n##### Here I am adding few tutorials for people who want to know about the models I have used in prediction."
   ]
  },
  {
   "cell_type": "code",
   "execution_count": null,
   "metadata": {
    "trusted": true,
    "_uuid": "9058b0446c9546736934c8d576b7d02de341a425"
   },
   "outputs": [],
   "source": [
    "from IPython.display import YouTubeVideo\n",
    "#Video tutorial on Bias-Variance Tradeoff\n",
    "\n",
    "YouTubeVideo('EuBBz3bI-aA',width=700, height=350)"
   ]
  },
  {
   "cell_type": "code",
   "execution_count": null,
   "metadata": {
    "trusted": true,
    "_uuid": "3e5ea3a612bf191198f686e73445d401f1ebe0d2"
   },
   "outputs": [],
   "source": [
    "#Video tutorial on ridge regression\n",
    "\n",
    "YouTubeVideo('Q81RR3yKn30',width=700, height=350)"
   ]
  },
  {
   "cell_type": "code",
   "execution_count": null,
   "metadata": {
    "trusted": true,
    "_uuid": "6dda94fdb17073d72b082e7e47d72454b0f05cee"
   },
   "outputs": [],
   "source": [
    "#Tutorial on Lasso\n",
    "YouTubeVideo('NGf0voTMlcs',width=700, height=350)"
   ]
  },
  {
   "cell_type": "code",
   "execution_count": null,
   "metadata": {
    "trusted": true,
    "_uuid": "e143c0b306b145d18aee015720e0110b7a81d9dd"
   },
   "outputs": [],
   "source": [
    "#Elastic Net Regression\n",
    "YouTubeVideo('1dKRdX9bfIo',width=700, height=350)"
   ]
  },
  {
   "cell_type": "code",
   "execution_count": null,
   "metadata": {
    "trusted": true,
    "_uuid": "d112d43cd69234c6b538df455fe4e95ad82a0e07"
   },
   "outputs": [],
   "source": [
    "#Decision Tree\n",
    "YouTubeVideo('7VeUPuFGJHk',width=700, height=350)"
   ]
  },
  {
   "cell_type": "code",
   "execution_count": null,
   "metadata": {
    "trusted": true,
    "_uuid": "3a9d441e378a5517a29fdffe33a05466d1d207fb"
   },
   "outputs": [],
   "source": [
    "model_Lasso= make_pipeline(RobustScaler(), Lasso(alpha =0.000327, random_state=18))\n",
    "\n",
    "model_ENet = make_pipeline(RobustScaler(), ElasticNet(alpha=0.00052, l1_ratio=0.70654, random_state=18))\n",
    "\n",
    "\n",
    "model_GBoost = GradientBoostingRegressor(n_estimators=3000, learning_rate=0.05,\n",
    "                                   max_depth=4, max_features='sqrt',\n",
    "                                   min_samples_leaf=15, min_samples_split=10, \n",
    "                                   loss='huber', random_state =18)\n",
    "\n",
    "model_XGB=xgb.XGBRegressor(n_jobs=-1, n_estimators=849, learning_rate=0.015876, \n",
    "                           max_depth=58, colsample_bytree=0.599653, colsample_bylevel=0.287441, subsample=0.154134, seed=18)\n",
    "\n",
    "model_lgb = lgb.LGBMRegressor(objective='regression',num_leaves=5,\n",
    "                              learning_rate=0.05, n_estimators=720,\n",
    "                              max_bin = 55, bagging_fraction = 0.8,\n",
    "                              bagging_freq = 5, feature_fraction = 0.2319,\n",
    "                              feature_fraction_seed=9, bagging_seed=9,\n",
    "                              min_data_in_leaf =6, min_sum_hessian_in_leaf = 11)\n",
    "\n",
    "forest_reg = RandomForestRegressor(bootstrap=False, criterion='mse', max_depth=None,\n",
    "           max_features=60, max_leaf_nodes=None, min_impurity_decrease=0.0,\n",
    "           min_impurity_split=None, min_samples_leaf=1,\n",
    "           min_samples_split=2, min_weight_fraction_leaf=0.0,\n",
    "           n_estimators=70, n_jobs=1, oob_score=False, random_state=42,\n",
    "           verbose=0, warm_start=False)\n"
   ]
  },
  {
   "cell_type": "markdown",
   "metadata": {
    "_uuid": "67d26b7de07a4b7a149b388ae58307c7b45c190b"
   },
   "source": [
    "## Predictions"
   ]
  },
  {
   "cell_type": "code",
   "execution_count": null,
   "metadata": {
    "trusted": true,
    "_uuid": "2047d4530eb6a01ae095d060202d855c16af1037"
   },
   "outputs": [],
   "source": [
    "model_Lasso.fit(X_train, y_train)\n",
    "Lasso_Predictions=np.exp(model_Lasso.predict(X_test))-1\n",
    "\n",
    "model_ENet.fit(X_train, y_train)\n",
    "ENet_Predictions=np.exp(model_ENet.predict(X_test))-1\n",
    "\n",
    "model_XGB.fit(X_train, y_train)\n",
    "XGB_Predictions=np.exp(model_XGB.predict(X_test))-1\n",
    "\n",
    "model_GBoost.fit(X_train, y_train)\n",
    "GBoost_Predictions=np.exp(model_GBoost.predict(X_test))-1\n",
    "\n",
    "model_lgb.fit(X_train, y_train)\n",
    "lgb_Predictions=np.exp(model_lgb.predict(X_test))-1\n",
    "\n",
    "forest_reg.fit(X_train, y_train)\n",
    "forest_reg_Predictions=np.exp(forest_reg.predict(X_test))-1\n"
   ]
  },
  {
   "cell_type": "code",
   "execution_count": null,
   "metadata": {
    "trusted": true,
    "_uuid": "fa1b9a99e782abd2af5bcdee86c5d3423a8e1cc8"
   },
   "outputs": [],
   "source": [
    "scores ={}\n",
    "scores.update({'Lasso':score(model_Lasso)})\n",
    "scores.update({\"Elastic Net\":score(model_ENet)})\n",
    "\n",
    "scores.update({\"XGB\":score(model_XGB)})\n",
    "scores.update({\"Gradient Boost\":score(model_GBoost)})\n",
    "scores.update({\"lgb\":score(model_lgb)})\n",
    "scores.update({\"Random Forest\":score(forest_reg)})"
   ]
  },
  {
   "cell_type": "code",
   "execution_count": null,
   "metadata": {
    "trusted": true,
    "_uuid": "2469a86aa2b9a72514ea4a235c19d0389bb5aa48"
   },
   "outputs": [],
   "source": [
    "scores"
   ]
  },
  {
   "cell_type": "code",
   "execution_count": null,
   "metadata": {
    "trusted": true,
    "_uuid": "dce746e1917bc12bd619715cd957fcebe4e5ceb5"
   },
   "outputs": [],
   "source": [
    "scores_df =pd.DataFrame(list(scores.items()),columns=['Model','Score'])\n",
    "scores_df.sort_values(['Score'])"
   ]
  },
  {
   "cell_type": "code",
   "execution_count": null,
   "metadata": {
    "trusted": true,
    "_uuid": "6857b1b7c7e769efcd6a96c0d674c9719c6de3b9"
   },
   "outputs": [],
   "source": [
    "plt.figure(figsize=(15,7))\n",
    "sns.barplot(scores_df['Model'],scores_df['Score']);"
   ]
  },
  {
   "cell_type": "markdown",
   "metadata": {
    "_uuid": "168653c11a4fb6b2387496b1d507e6dccb376b1f"
   },
   "source": [
    "###### Combining models to get better prediction"
   ]
  },
  {
   "cell_type": "markdown",
   "metadata": {
    "_uuid": "b6c7fe364ca511b0ba3daa108c39520f6df88cf2"
   },
   "source": [
    "Ensemble methods are commonly used to boost predictive accuracy by combining the predictions of multiple machine learning models. The traditional wisdom has been to combine so-called “weak” learners. However, a more modern approach is to create an ensemble of a well-chosen collection of strong yet diverse models.\n",
    "\n",
    "Building powerful ensemble models has many parallels with building successful human teams in business, science, politics, and sports. Each team member makes a significant contribution and individual weaknesses and biases are offset by the strengths of other members.\n",
    "\n",
    "The simplest kind of ensemble is the unweighted average of the predictions of the models that form a model library. For example, if a model library includes three models for an interval target (as shown in the following figure), the unweighted average would entail dividing the sum of the predicted values of the three candidate models by three. In an unweighted average, each model takes the same weight when an ensemble model is built.\n",
    "\n",
    "\n",
    "\n",
    "![image.png](attachment:image.png)\n",
    "\n",
    "\n",
    "\n",
    "Reference: [https://blogs.sas.com/content/subconsciousmusings/2017/05/18/stacked-ensemble-models-win-data-science-competitions/](http://)"
   ]
  },
  {
   "cell_type": "code",
   "execution_count": null,
   "metadata": {
    "trusted": true,
    "_uuid": "736ab265007d3b08bf82366f556e8b27770732cd"
   },
   "outputs": [],
   "source": [
    "ensemble = (Lasso_Predictions*0.59 + XGB_Predictions*0.06 + lgb_Predictions*0.35)\n",
    "\n",
    "ensemble"
   ]
  },
  {
   "cell_type": "code",
   "execution_count": null,
   "metadata": {
    "trusted": true,
    "_uuid": "813a04a8d3289f7a23ee8b5d5af22638c5e1daff"
   },
   "outputs": [],
   "source": [
    "submission=pd.read_csv('./data/sample_submission.csv')\n",
    "submission['SalePrice']= ensemble"
   ]
  },
  {
   "cell_type": "code",
   "execution_count": null,
   "metadata": {
    "trusted": true,
    "_uuid": "9a803aad002d40b58b5df663e1afe208b6e5df45"
   },
   "outputs": [],
   "source": [
    "submission.head()"
   ]
  },
  {
   "cell_type": "code",
   "execution_count": null,
   "metadata": {
    "trusted": true,
    "_uuid": "da51c7230cde064a5192c0e95990b10d769f8ddc"
   },
   "outputs": [],
   "source": [
    "submission.to_csv('submission.csv',index=False)"
   ]
  },
  {
   "cell_type": "markdown",
   "metadata": {
    "_uuid": "36f899d9199e6d9e347a97e53c0bf62c0950696a"
   },
   "source": [
    ""
   ]
  },
  {
   "cell_type": "code",
   "execution_count": null,
   "metadata": {
    "trusted": false,
    "_uuid": "e30a02e25e0ced70da823505f789c8e89c8f5f4f"
   },
   "outputs": [],
   "source": [
    ""
   ]
  }
 ],
 "metadata": {
  "kernelspec": {
   "display_name": "Python 3",
   "language": "python",
   "name": "python3"
  },
  "language_info": {
   "name": "python",
   "version": "3.6.6",
   "mimetype": "text/x-python",
   "codemirror_mode": {
    "name": "ipython",
    "version": 3
   },
   "pygments_lexer": "ipython3",
   "nbconvert_exporter": "python",
   "file_extension": ".py"
  }
 },
 "nbformat": 4,
 "nbformat_minor": 1
}
